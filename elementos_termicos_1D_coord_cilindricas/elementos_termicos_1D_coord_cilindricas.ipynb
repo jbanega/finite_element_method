{
 "cells": [
  {
   "cell_type": "markdown",
   "metadata": {},
   "source": [
    "**Proyecto - Elementos térmicos unidimensionales lineales en coordenadas cilíndricas**"
   ]
  },
  {
   "cell_type": "code",
   "execution_count": 1,
   "metadata": {
    "collapsed": true
   },
   "outputs": [],
   "source": [
    "# Importación de módulos de cálculos\n",
    "import numpy as np\n",
    "%matplotlib inline\n",
    "import matplotlib.pyplot as plt\n",
    "np.set_printoptions(formatter={'float': '{: 0.4f}'.format}) #Opciones de impresión de numpy"
   ]
  },
  {
   "cell_type": "markdown",
   "metadata": {},
   "source": [
    "**Pre-procesamiento**"
   ]
  },
  {
   "cell_type": "code",
   "execution_count": 2,
   "metadata": {
    "collapsed": true
   },
   "outputs": [],
   "source": [
    "# Datos del problema\n",
    "\n",
    "# Tubería de cobre\n",
    "kcu = 385                   #Conductividad térmica del cobre [W/m-K]\n",
    "hcu = 5 * 10**-3            #Espesor de la tubería [m]\n",
    "dext_cu = 20 * 10**-3       #Diámetro externo de la tubería [m]\n",
    "dint_cu = dext_cu - 2*hcu   #Diámetro interno de la tubería [m]\n",
    "r1 = dint_cu/2              #Radio interno de la tubería [m]\n",
    "r2 = dext_cu/2              #Radio externo de la tubería [m]\n",
    "\n",
    "# Fluido de trabajo: agua helada\n",
    "Tint = 5 + 273              #Temperatura (K) del fluido que se asume igual a la de la pared interna de la tubería\n",
    "\n",
    "# Aislante\n",
    "kais = 0.0055               #Conductividad térmica del aislate [W/m-K]\n",
    "hais = 10 * 10**-3          #Espesor del aislante [m]\n",
    "dext_ais = dext_cu + 2*hais #Diámetro externo del aislate [m]\n",
    "r3 = dext_ais/2             #Radio externo del aislante\n",
    "\n",
    "#Condiciones ambientales\n",
    "h = 5                       #Coeficiente convectivo [W/m-k]\n",
    "Tamb = 35 + 273             #Temperatura (K) del ambiente externo\n",
    "\n",
    "#Vector de conductividades\n",
    "k = np.array([kcu, kais])"
   ]
  },
  {
   "cell_type": "code",
   "execution_count": 3,
   "metadata": {
    "collapsed": true
   },
   "outputs": [],
   "source": [
    "# Tabla de conectividades\n",
    "# Elemento / nodo 1 / nodo 2\n",
    "\n",
    "Con = np.array([\n",
    "        [0, 0, 1],\n",
    "        [1, 1, 2]\n",
    "    ])\n",
    "\n",
    "# Tabla de coordenadas nodales\n",
    "# Nodo / r\n",
    "\n",
    "Coord = np.array([\n",
    "        [0, r1],\n",
    "        [1, r2],\n",
    "        [2, r3]\n",
    "    ])\n",
    "\n",
    "# Tabla de grados de libertad\n",
    "\n",
    "GDL = np.array([\n",
    "        [0, 1],     #Elemento 0\n",
    "        [1, 2],     #Elemento 1\n",
    "    ])\n",
    "\n",
    "nnodos = 3\n",
    "ngdl_nodo = 1\n",
    "nDOF_total = nnodos * ngdl_nodo"
   ]
  },
  {
   "cell_type": "code",
   "execution_count": 4,
   "metadata": {},
   "outputs": [],
   "source": [
    "# Función de matriz de conductividad térmica elemental\n",
    "\n",
    "def Kt_elem(Coord, Con, elemento, k):\n",
    "    ri = Coord[elemento, 1]\n",
    "    rj = Coord[elemento+1, 1]\n",
    "    kt_e = (np.pi*k[elemento]/(2*(rj-ri))) * np.array([\n",
    "                                                    [2*ri + 2*rj, -(2*ri + 2*rj)],\n",
    "                                                    [-(2*ri + 2*rj), 2*ri + 2*rj]\n",
    "                                                    ])\n",
    "    return kt_e"
   ]
  },
  {
   "cell_type": "code",
   "execution_count": 5,
   "metadata": {
    "collapsed": true
   },
   "outputs": [],
   "source": [
    "# Función de matriz de convectividad\n",
    "\n",
    "def kh_elem(Coord, Con, elemento, h):\n",
    "    rj = Coord[elemento+1, 1]\n",
    "    kh_e = 2*np.pi*rj * np.array([\n",
    "                             [0, 0],\n",
    "                             [0, h]\n",
    "                             ])\n",
    "    return kh_e"
   ]
  },
  {
   "cell_type": "code",
   "execution_count": 6,
   "metadata": {
    "collapsed": true
   },
   "outputs": [],
   "source": [
    "# Función de calor por convectividad\n",
    "\n",
    "def Qh_elem(Coord, Con, elemento, h, Tamb):\n",
    "    rj = Coord[elemento+1, 1]\n",
    "    Qh_e = np.array([\n",
    "            [0, 2*np.pi*rj*h*Tamb]\n",
    "        ])\n",
    "    return Qh_e"
   ]
  },
  {
   "cell_type": "code",
   "execution_count": 7,
   "metadata": {},
   "outputs": [],
   "source": [
    "# Ensamblaje de la matriz de conductividades térmicas Kt\n",
    "\n",
    "K = np.zeros([nDOF_total, nDOF_total])\n",
    "\n",
    "for nelem in range(0, 2):\n",
    "    Kt = Kt_elem(Coord, Con, nelem, k)\n",
    "    for a in range(0, 2):\n",
    "        rw = GDL[nelem, a]\n",
    "        for b in range(0, 2):\n",
    "            cl = GDL[nelem, b]\n",
    "            K[rw, cl] = K[rw, cl] + Kt[a, b]\n",
    "            \n",
    "# Incorporación de la convectividad del elemento externo\n",
    "\n",
    "Kh = kh_elem(Coord, Con, 1, h)\n",
    "K[1:3, 1:3] = K[1:3, 1:3] + Kh"
   ]
  },
  {
   "cell_type": "code",
   "execution_count": 8,
   "metadata": {},
   "outputs": [],
   "source": [
    "# Vector de calor \n",
    "\n",
    "Q = np.zeros([nDOF_total])\n",
    "    \n",
    "Qh = Qh_elem(Coord, Con, 1, h, Tamb)\n",
    "\n",
    "Q[1:] = Q[1:] + Qh"
   ]
  },
  {
   "cell_type": "markdown",
   "metadata": {},
   "source": [
    "**Resolución y Post-procesamiento**"
   ]
  },
  {
   "cell_type": "code",
   "execution_count": 9,
   "metadata": {},
   "outputs": [
    {
     "name": "stdout",
     "output_type": "stream",
     "text": [
      "Distribución de Temperatura [°C]:\n",
      "[ 5.0000  5.0004  32.7137]\n",
      "\n",
      "Flujo de calor por unidad de longitud en la tubería [W/m]:\n",
      "1.4366\n"
     ]
    },
    {
     "data": {
      "text/plain": [
       "True"
      ]
     },
     "execution_count": 9,
     "metadata": {},
     "output_type": "execute_result"
    }
   ],
   "source": [
    "# Aplicación de condición de borde por penalización\n",
    "kc = np.max(np.max(np.abs(K))) * 10**6\n",
    "Km = np.array(K)\n",
    "Km[0,0] += kc\n",
    "Qm = np.array(Q)\n",
    "Qm[0] += kc*Tint\n",
    "\n",
    "# Resolución del sistema\n",
    "T = np.linalg.solve(Km, Qm)\n",
    "print(\"Distribución de Temperatura [°C]:\")\n",
    "print(T - 273)\n",
    "print()\n",
    "\n",
    "# Cálculo del flujo de calor (por unidad de longitud)\n",
    "A_ext = 2*np.pi*r3\n",
    "Q_flujo = A_ext*h*(Tamb-T[2])\n",
    "print(\"Flujo de calor por unidad de longitud en la tubería [W/m]:\")\n",
    "print(\"%0.4f\" % Q_flujo)\n",
    "\n",
    "np.allclose(np.dot(Km, T), Qm)    #Verificación de la resolución del sistema"
   ]
  },
  {
   "cell_type": "code",
   "execution_count": 10,
   "metadata": {},
   "outputs": [
    {
     "data": {
      "text/plain": [
       "<matplotlib.legend.Legend at 0xae21a1ac>"
      ]
     },
     "execution_count": 10,
     "metadata": {},
     "output_type": "execute_result"
    },
    {
     "data": {
      "image/png": "[encoded data removed]",
      "text/plain": [
       "<matplotlib.figure.Figure at 0xaf24c5cc>"
      ]
     },
     "metadata": {},
     "output_type": "display_data"
    }
   ],
   "source": [
    "#Distribución de temperatura\n",
    "r = np.array([r1, r2, r3])\n",
    "Temp_amb = np.array([35, 35, 35])\n",
    "plt.plot(r*10**3, T-273, \"o-b\", label=\"$T_{tubería}$\")\n",
    "plt.plot(r*10**3, Temp_amb, \"--r\", label=\"$T_{amb}$\")\n",
    "plt.xlim(r1*10**3, r3*10**3)\n",
    "plt.ylim(0, 40)\n",
    "plt.xlabel(\"Posición radial $r$ [mm]\")\n",
    "plt.ylabel(\"Temperatura $T$ [°C]\")\n",
    "plt.title(\"Distribución de temperatura radial en la tubería\")\n",
    "plt.legend(bbox_to_anchor=(1.05, 1), loc=2, borderaxespad=0.)"
   ]
  },
  {
   "cell_type": "markdown",
   "metadata": {},
   "source": [
    "**Análisis de convergencia**"
   ]
  },
  {
   "cell_type": "code",
   "execution_count": 13,
   "metadata": {},
   "outputs": [
    {
     "name": "stdout",
     "output_type": "stream",
     "text": [
      "Distribución de Temperatura [°C]:\n",
      "[ 5.0000  5.0000  5.0000  5.0000  5.0000  5.0001  5.0001  5.0001  5.0001\n",
      "  5.0001  5.0001  5.0001  5.0001  5.0001  5.0001  5.0002  5.0002  5.0002\n",
      "  5.0002  5.0002  5.0002  5.0002  5.0002  5.0002  5.0002  5.0002  5.0002\n",
      "  5.0002  5.0003  5.0003  5.0003  5.0003  5.0003  5.0003  5.0003  5.0003\n",
      "  5.0003  5.0003  5.0003  5.0003  5.0003  5.0003  5.0003  5.0004  5.0004\n",
      "  5.0004  5.0004  5.0004  5.0004  5.0004  5.0004  5.7944  6.5731  7.3369\n",
      "  8.0864  8.8221  9.5447  10.2544  10.9517  11.6372  12.3111  12.9739\n",
      "  13.6260  14.2675  14.8990  15.5207  16.1329  16.7359  17.3300  17.9154\n",
      "  18.4923  19.0611  19.6219  20.1750  20.7206  21.2589  21.7900  22.3141\n",
      "  22.8315  23.3424  23.8468  24.3449  24.8369  25.3230  25.8032  26.2777\n",
      "  26.7467  27.2103  27.6686  28.1217  28.5697  29.0128  29.4510  29.8845\n",
      "  30.3134  30.7377  31.1576  31.5732  31.9844  32.3915  32.7945]\n",
      "\n",
      "Flujo de calor por unidad de longitud en la tubería [W/m]:\n",
      "1.3857\n"
     ]
    },
    {
     "name": "stderr",
     "output_type": "stream",
     "text": [
      "/home/josue/anaconda3/lib/python3.5/site-packages/ipykernel/__main__.py:50: DeprecationWarning: using a non-integer number instead of an integer will result in an error in the future\n"
     ]
    },
    {
     "data": {
      "text/plain": [
       "False"
      ]
     },
     "execution_count": 13,
     "metadata": {},
     "output_type": "execute_result"
    },
    {
     "data": {
      "image/png": "[encoded data removed]",
      "text/plain": [
       "<matplotlib.figure.Figure at 0xae22374c>"
      ]
     },
     "metadata": {},
     "output_type": "display_data"
    }
   ],
   "source": [
    "elem_total = 100            #Número de elementos del sistema\n",
    "div = elem_total/2        #Número para discretización por elemento base\n",
    "long_cu = (r2-r1)/ div    #Espesor de cada elemento en la tubería de cobre\n",
    "long_ais = (r3-r2) / div  #Espesor de cada elemento en el aislante\n",
    "\n",
    "ee = int(2*div)\n",
    "em = int(ee/2)\n",
    "\n",
    "#Vector de conductividades\n",
    "k = np.zeros([ee])\n",
    "for n in range(0, em):\n",
    "    k[n] = kcu\n",
    "for n in range(em, ee):\n",
    "    k[n] = kais\n",
    "\n",
    "# Tabla de conectividades\n",
    "# Elemento / nodo 1 / nodo 2\n",
    "Con = np.zeros([ee, 3])\n",
    "for n in range(0, ee):\n",
    "    Con[n,:] = [n, n, n+1]\n",
    "\n",
    "# Tabla de coordenadas nodales\n",
    "# Nodo / r\n",
    "Coord = np.zeros([ee+1, 2])\n",
    "Coord[0,:] = [0, r1]\n",
    "for n in range(1, em+1):\n",
    "    Coord[n,:] = [n, Coord[n-1,1]+long_cu]\n",
    "    for n in range(em+1, ee+1):\n",
    "        Coord[n,:] = [n, Coord[n-1,1]+long_ais]\n",
    "\n",
    "# Tabla de grados de libertad\n",
    "GDL = np.zeros([ee, 2])\n",
    "for n in range(0, ee):\n",
    "    GDL[n,:] = [n, n+1]\n",
    "\n",
    "nnodos = ee + 1\n",
    "ngdl_nodo = 1\n",
    "nDOF_total = nnodos * ngdl_nodo\n",
    "\n",
    "# Ensamblaje de la matriz de conductividades térmicas Kt\n",
    "\n",
    "K = np.zeros([nDOF_total, nDOF_total])\n",
    "\n",
    "for nelem in range(0, elem_total):\n",
    "    Kt = Kt_elem(Coord, Con, nelem, k)\n",
    "    for a in range(0, 2):\n",
    "        rw = GDL[nelem, a]\n",
    "        for b in range(0, 2):\n",
    "            cl = GDL[nelem, b]\n",
    "            K[rw, cl] = K[rw, cl] + Kt[a, b]\n",
    "\n",
    "# Incorporación de la convectividad del elemento externo\n",
    "\n",
    "Kh = kh_elem(Coord, Con, elem_total-1, h)\n",
    "K[nDOF_total-2:nDOF_total, nDOF_total-2:nDOF_total] = K[nDOF_total-2:nDOF_total, nDOF_total-2:nDOF_total] + Kh\n",
    "\n",
    "# Vector de calor \n",
    "\n",
    "Q = np.zeros([nDOF_total])\n",
    "\n",
    "Qh = Qh_elem(Coord, Con, elem_total-1, h, Tamb)\n",
    "\n",
    "Q[nDOF_total-2:] = Q[nDOF_total-2:] + Qh\n",
    "\n",
    "# Aplicación de condición de borde por penalización\n",
    "kc = np.max(np.max(np.abs(K))) * 10**6\n",
    "Km = np.array(K)\n",
    "Km[0,0] += kc\n",
    "Qm = np.array(Q)\n",
    "Qm[0] += kc*Tint\n",
    "\n",
    "# Resolución del sistema\n",
    "T = np.linalg.solve(Km, Qm)\n",
    "print(\"Distribución de Temperatura [°C]:\")\n",
    "print(T - 273)\n",
    "print()\n",
    "\n",
    "# Cálculo del flujo de calor (por unidad de longitud)\n",
    "A_ext = 2*np.pi*r3\n",
    "Q_flujo = A_ext*h*(Tamb-T[nDOF_total-1])\n",
    "print(\"Flujo de calor por unidad de longitud en la tubería [W/m]:\")\n",
    "print(\"%0.4f\" % Q_flujo)\n",
    "\n",
    "#Distribución de temperatura\n",
    "r = np.zeros([nnodos])\n",
    "for n in range(0, nnodos):\n",
    "    r[n] = Coord[n, 1]\n",
    "plt.plot(r*10**3, T-273, \"o-b\", label=\"$T_{tubería}$\")\n",
    "plt.xlim(5, 20)\n",
    "plt.ylim(0, 40)\n",
    "plt.xlabel(\"Posición radial $r$ [mm]\")\n",
    "plt.ylabel(\"Temperatura $T$ [°C]\")\n",
    "plt.title(\"Distribución de temperatura radial en la tubería\")\n",
    "plt.legend(bbox_to_anchor=(1.05, 1), loc=2, borderaxespad=0.)\n",
    "\n",
    "np.allclose(np.dot(Km, T), Qm)    #Verificación de la resolución del sistema"
   ]
  }
 ],
 "metadata": {
  "kernelspec": {
   "display_name": "Python 3",
   "language": "python",
   "name": "python3"
  },
  "language_info": {
   "codemirror_mode": {
    "name": "ipython",
    "version": 3
   },
   "file_extension": ".py",
   "mimetype": "text/x-python",
   "name": "python",
   "nbconvert_exporter": "python",
   "pygments_lexer": "ipython3",
   "version": "3.8.5"
  }
 },
 "nbformat": 4,
 "nbformat_minor": 1
}
