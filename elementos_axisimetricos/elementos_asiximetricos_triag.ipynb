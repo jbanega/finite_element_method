{
 "cells": [
  {
   "cell_type": "markdown",
   "metadata": {},
   "source": [
    "**Caso de estudio - Elementos axisimétricos tipo lineal (triangulares)**"
   ]
  },
  {
   "cell_type": "code",
   "execution_count": 1,
   "metadata": {
    "collapsed": true
   },
   "outputs": [],
   "source": [
    "# Importación de módulos de cálculos\n",
    "import numpy as np\n",
    "%matplotlib inline\n",
    "import matplotlib.pyplot as plt\n",
    "np.set_printoptions(formatter={'float': '{: 0.4f}'.format}) #Opciones de impresión de numpy"
   ]
  },
  {
   "cell_type": "markdown",
   "metadata": {},
   "source": [
    "**Pre-procesamiento**"
   ]
  },
  {
   "cell_type": "code",
   "execution_count": 2,
   "metadata": {
    "collapsed": true
   },
   "outputs": [],
   "source": [
    "# Datos del problema\n",
    "E = 200 * 10**9           #Módulo de elasticidad del acero [N/m^2]\n",
    "v = 0.3                   #Módulo de Poisson del acero \n",
    "rho = 7850                #Densidad del acero [kg/m^3]\n",
    "Sigma_adm = 200 * 10**6   #Esfuerzo de fluencia del acero [N/m^2]\n",
    "a = 20 * 10**-3           #Longitud característica [m]\n",
    "R = 6 * a                 #Radio externo del disco [m]"
   ]
  },
  {
   "cell_type": "code",
   "execution_count": 3,
   "metadata": {
    "collapsed": true
   },
   "outputs": [],
   "source": [
    "# Tabla de conectividades\n",
    "# Elemento / nodo 1 / nodo 2 / nodo 3\n",
    "\n",
    "Con = np.array([\n",
    "        [0, 0, 1, 4],\n",
    "        [1, 1, 2, 4],\n",
    "        [2, 2, 5, 4],\n",
    "        [3, 2, 6, 5],\n",
    "        [4, 2, 3, 6],\n",
    "        [5, 4, 5, 7],\n",
    "        [6, 5, 6, 7],\n",
    "        [7, 6, 8, 7]\n",
    "    ])\n",
    "\n",
    "# Tabla de coordenadas nodales\n",
    "# Nodo / r / z\n",
    "\n",
    "Coord = np.array([\n",
    "        [0, 0, 0],\n",
    "        [1, 0, a],\n",
    "        [2, 0, 2*a],\n",
    "        [3, 0, 3*a],\n",
    "        [4, 3*a, a],\n",
    "        [5, 3*a, 2*a],\n",
    "        [6, 3*a, 3*a],\n",
    "        [7, 6*a, 2*a],\n",
    "        [8, 6*a, 3*a]\n",
    "    ])\n",
    "\n",
    "# Tabla de grados de libertad\n",
    "\n",
    "GDL = np.array([\n",
    "        [0, 1, 2, 3, 8, 9],       #Elemento 0\n",
    "        [2, 3, 4, 5, 8, 9],       #Elemento 1\n",
    "        [4, 5, 10, 11, 8, 9],     #Elemento 2\n",
    "        [4, 5, 12, 13, 10, 11],   #Elemento 3\n",
    "        [4, 5, 6, 7, 12, 13],     #Elemento 4\n",
    "        [8, 9, 10, 11, 14, 15],   #Elemento 5\n",
    "        [10, 11, 12, 13, 14, 15], #Elemento 6\n",
    "        [12, 13, 16, 17, 14, 15]  #Elemento 7\n",
    "    ])\n",
    "\n",
    "nnodos = 9\n",
    "ngdl_nodo = 2\n",
    "nDOF_total = nnodos * ngdl_nodo"
   ]
  },
  {
   "cell_type": "code",
   "execution_count": 4,
   "metadata": {
    "collapsed": true
   },
   "outputs": [],
   "source": [
    "# Matriz del material\n",
    "\n",
    "D = (E*(1-v))/((1+v)*(1-2*v)) * np.array([\n",
    "                                    [      1, v/(1-v),                0, v/(1-v)],\n",
    "                                    [v/(1-v),       1,                0, v/(1-v)],\n",
    "                                    [      0,       0, (1-2*v)/(2*(1-v)),       0],\n",
    "                                    [v/(1-v), v/(1-v),                0,        1]\n",
    "                                 ])"
   ]
  },
  {
   "cell_type": "code",
   "execution_count": 5,
   "metadata": {
    "collapsed": true
   },
   "outputs": [],
   "source": [
    "# Función de cálculo de los parámetros de la matriz de derivadas de funciones de forma\n",
    "\n",
    "def J(Coord, Con, elemento):\n",
    "    r1 = Coord[Con[elemento, 1], 1]\n",
    "    r2 = Coord[Con[elemento, 2], 1]\n",
    "    r3 = Coord[Con[elemento, 3], 1]\n",
    "    z1 = Coord[Con[elemento, 1], 2]\n",
    "    z2 = Coord[Con[elemento, 2], 2]\n",
    "    z3 = Coord[Con[elemento, 3], 2]\n",
    "    r32 = r3 - r2\n",
    "    r13 = r1 - r3\n",
    "    r21 = r2 - r1\n",
    "    r31 = - r13\n",
    "    z23 = z2 - z3\n",
    "    z31 = z3 - z1\n",
    "    z12 = z1 - z2\n",
    "    z21 = - z12\n",
    "    detJ = r21*z31 - r31*z21\n",
    "    \n",
    "    return detJ, r1, r2, r3, r32, r13, r21, z23, z31, z12"
   ]
  },
  {
   "cell_type": "code",
   "execution_count": 6,
   "metadata": {
    "collapsed": true
   },
   "outputs": [],
   "source": [
    "# Función para el cálculo de la matriz de derivadas de funciones de forma simplificada\n",
    "\n",
    "def Bb(Coord, Con, elemento):\n",
    "    detJ, r1, r2, r3, r32, r13, r21, z23, z31, z12 = J(Coord, Con, elemento)\n",
    "    Ae = detJ/2\n",
    "    N1, N2, N3 = 1/3, 1/3, 1/3\n",
    "    rm = (1/3) * (r1 + r2 + r3)\n",
    "    \n",
    "    B = (1/detJ) * np.array([\n",
    "            [z23, 0, z31, 0, z12, 0],\n",
    "            [0, r32, 0, r13, 0, r21],\n",
    "            [r32, z23, r13, z31, r21, z12],\n",
    "            [N1*detJ/rm, 0, N2*detJ/rm, 0, N3*detJ/rm, 0]\n",
    "        ])\n",
    "    \n",
    "    return rm, Ae, B"
   ]
  },
  {
   "cell_type": "code",
   "execution_count": 7,
   "metadata": {},
   "outputs": [],
   "source": [
    "# Ensamblaje de la matriz de rigidez\n",
    "\n",
    "K = np.zeros([nDOF_total, nDOF_total])\n",
    "\n",
    "for nelem in range(0, 8):\n",
    "    rm, Ae, B = Bb(Coord, Con, nelem)\n",
    "    DB = np.dot(D, B)\n",
    "    BtDB = np.dot(np.transpose(B), DB)\n",
    "    ke = 2 * np.pi * rm * Ae * BtDB\n",
    "    for a in range(0, 6):\n",
    "        rw = GDL[nelem, a]\n",
    "        for b in range(0, 6):\n",
    "            cl = GDL[nelem, b]\n",
    "            K[rw, cl] = K[rw, cl] + ke[a, b]"
   ]
  },
  {
   "cell_type": "code",
   "execution_count": 8,
   "metadata": {},
   "outputs": [],
   "source": [
    "# Función de cálculo de la carga centrífuga\n",
    "\n",
    "def f_centrifuga(rho, rm, omega):\n",
    "    fr = rho * rm * omega**2\n",
    "    return fr"
   ]
  },
  {
   "cell_type": "code",
   "execution_count": 9,
   "metadata": {
    "collapsed": true
   },
   "outputs": [],
   "source": [
    "# Función de cargas de cuerpo elementales\n",
    "\n",
    "def fe_cuerpo(rm, Ae, fr):\n",
    "    fe = (2*np.pi/3) * rm * Ae * np.array([fr, 0, fr, 0, fr, 0])\n",
    "    return fe"
   ]
  },
  {
   "cell_type": "code",
   "execution_count": 10,
   "metadata": {
    "collapsed": true
   },
   "outputs": [],
   "source": [
    "# Ensamblaje del vector de cargas\n",
    "\n",
    "def Ensamblaje_carga(Coord, Con, rho, omega):\n",
    "    \n",
    "    F = np.zeros([nDOF_total])\n",
    "    \n",
    "    for nelem in range(0, 8):\n",
    "        rm, Ae, B = Bb(Coord, Con, nelem)\n",
    "        fr = f_centrifuga(rho, rm, omega)\n",
    "        fe = fe_cuerpo(rm, Ae, fr)\n",
    "        for a in range(0, 6):\n",
    "            rw = GDL[nelem, a]\n",
    "            F[rw] = F[rw] + fe[a]\n",
    "    \n",
    "    return F"
   ]
  },
  {
   "cell_type": "markdown",
   "metadata": {},
   "source": [
    "**Resolución y Post-procesamiento**"
   ]
  },
  {
   "cell_type": "code",
   "execution_count": 11,
   "metadata": {},
   "outputs": [
    {
     "name": "stdout",
     "output_type": "stream",
     "text": [
      "Desplazamientos nodales [mm]:\n",
      "[ 0.0000  0.0374 -0.0000  0.0337 -0.0000  0.0314 -0.0000  0.0185  0.0132\n",
      "  0.0097  0.0279  0.0042  0.0428 -0.0023  0.0385 -0.0383  0.0512 -0.0432]\n",
      "\n",
      "Esfuerzos [MPa] del elemento 0\n",
      "[ 63.0742  0.0000 -30.7039  63.0742]\n",
      "\n",
      "Esfuerzos [MPa] del elemento 1\n",
      "[ 71.8467  20.4693 -30.7039  71.8467]\n",
      "\n",
      "Esfuerzos [MPa] del elemento 2\n",
      "[ 133.2346  19.6633  21.5585  114.4462]\n",
      "\n",
      "Esfuerzos [MPa] del elemento 3\n",
      "[ 155.2056  33.0368  22.5047  174.3094]\n",
      "\n",
      "Esfuerzos [MPa] del elemento 4\n",
      "[ 199.9997 -8.9062 -26.7185  199.9997]\n",
      "\n",
      "Esfuerzos [MPa] del elemento 5\n",
      "[ 54.1871 -14.9490  1.7668  78.1193]\n",
      "\n",
      "Esfuerzos [MPa] del elemento 6\n",
      "[ 61.9485 -15.7851  2.7131  104.8268]\n",
      "\n",
      "Esfuerzos [MPa] del elemento 7\n",
      "[ 60.2800  1.1946 -3.5839  106.7386]\n",
      "\n",
      "Velocidad angular numérica máxima [rad/s]:\n",
      "2124.7100\n"
     ]
    }
   ],
   "source": [
    "# Aplicación de condiciones de borde por penalización\n",
    "kc = np.max(np.max(np.abs(K))) * 10**6\n",
    "Km = np.array(K)\n",
    "Km[0,0] += kc\n",
    "Km[2,2] += kc\n",
    "Km[4,4] += kc\n",
    "Km[6,6] += kc\n",
    "\n",
    "# Método iterativo\n",
    "\n",
    "omega = 2124.71    #Velocidad angular [rad/s]\n",
    "\n",
    "F = Ensamblaje_carga(Coord, Con, rho, omega)\n",
    "\n",
    "# Resolución del sistema\n",
    "Q = np.linalg.solve(Km, F)\n",
    "print(\"Desplazamientos nodales [mm]:\")\n",
    "print(Q * 10**3)\n",
    "print()\n",
    "\n",
    "np.allclose(np.dot(Km, Q), F)    #Verificación de la resolución del sistema\n",
    "\n",
    "# Cálculo de esfuerzos\n",
    "for nelem in range(0, 8):\n",
    "    rm, Ae, B = Bb(Coord, Con, nelem)\n",
    "    DB = np.dot(D, B)\n",
    "    qe = np.zeros([6])\n",
    "    for a in range(0, 6):\n",
    "        rw = GDL[nelem, a]\n",
    "        qe[a] = Q[rw]\n",
    "    DBq = np.dot(DB, qe)\n",
    "    print(\"Esfuerzos [MPa] del elemento\", nelem)\n",
    "    print(DBq * 10**-6)\n",
    "    print()\n",
    "    \n",
    "print(\"Velocidad angular numérica máxima [rad/s]:\")\n",
    "print(\"%0.4f\" % omega)"
   ]
  },
  {
   "cell_type": "code",
   "execution_count": 12,
   "metadata": {},
   "outputs": [
    {
     "name": "stdout",
     "output_type": "stream",
     "text": [
      "Velocidad angular teórica máxima [rad/s]:\n",
      "2071.0327\n"
     ]
    }
   ],
   "source": [
    "# Solución analítica para un disco plano\n",
    "\n",
    "omega_teo = np.sqrt((8*Sigma_adm/(3+v))*(1/(rho*(R)**2)))\n",
    "print(\"Velocidad angular teórica máxima [rad/s]:\")\n",
    "print(\"%0.4f\" % omega_teo)"
   ]
  },
  {
   "cell_type": "code",
   "execution_count": 13,
   "metadata": {},
   "outputs": [
    {
     "name": "stdout",
     "output_type": "stream",
     "text": [
      "Error numérico [%]:\n",
      "2.59\n"
     ]
    }
   ],
   "source": [
    "# Comparación de solución numérica contra analítica\n",
    "error = np.abs(omega-omega_teo)*100/omega_teo\n",
    "print(\"Error numérico [%]:\")\n",
    "print(\"%0.2f\" % error)"
   ]
  }
 ],
 "metadata": {
  "kernelspec": {
   "display_name": "Python 3",
   "language": "python",
   "name": "python3"
  },
  "language_info": {
   "codemirror_mode": {
    "name": "ipython",
    "version": 3
   },
   "file_extension": ".py",
   "mimetype": "text/x-python",
   "name": "python",
   "nbconvert_exporter": "python",
   "pygments_lexer": "ipython3",
   "version": "3.8.5"
  }
 },
 "nbformat": 4,
 "nbformat_minor": 1
}
